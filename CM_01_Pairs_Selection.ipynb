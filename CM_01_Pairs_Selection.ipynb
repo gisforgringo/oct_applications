{
 "cells": [
  {
   "cell_type": "markdown",
   "metadata": {},
   "source": [
    "# Hudson and Thames Apprentichsip Application: Pairs Selection with OPTICS\n",
    "\n",
    "## Purpose\n",
    "The purpose of this notebook is to fulfill the requirement for the Hudson and Thames apprenticeship application:\n",
    "https://github.com/hudson-and-thames/oct_applications\n",
    "\n",
    "## Methodology\n",
    "This notebook follows the implementation of Section III: Proposed Pairs Selection Framework  from [Enhancing a Pairs Trading strategy with the application of Machine Learning](http://premio-vidigal.inesc.pt/pdf/SimaoSarmentoMSc-resumo.pdf). (Hereafter refered to as the Sarmento paper). I attemtp to follow the author and analyze Commoditiy ETFs, albeit with daily data (instead of 5 min data as used by the author).\n",
    "\n",
    "I implemention sections A, B and C from the Sarmento paper. \n",
    "\n",
    "Section A implements dimension reduction via Principal Component Analysis (PCA). Section B implements clustering (after dimension reduction) using Ordering Points To Identify the Clustering Structure (OPICS).\n",
    "\n",
    "Section C entails 4 rules for pairs selection:\n",
    " - cointegration*\n",
    " - mean crossing (at least 12 times per year on average)\n",
    " - mean reversion (Hurst exponent <0.5)\n",
    " - 1 day < half-life < 1 year (1year = 250 trading days)\n",
    "\n",
    "*conitegration is assumed to be the minimum criteria.  I refer to the other criteria as 'additional criteria'.\n",
    "\n",
    "In addition to sections A, B and C I analyse the impact of the additional criteria (both individually and in combination). To do so, I generate clusters, identify cointegrating pairs within each cluster and estimate cointegration coefficients on data from 2015-2018 (formation period). I then analyze impact on 2019 and 2020 data (validation period). To analyze the impact I implement a simple 30 day 2SD Bollinger band trading rule over each of the pairs for the validation period using cointegration coefficient derived in the formation period.\n",
    "\n",
    "Note: backtests make do no include slippage or comissions but are intended as a comparison accross selction criteria. Backtests do not compound returns.\n",
    "\n",
    "\n",
    "## WIP - improvements\n",
    "\n",
    "Notable TODOs:\n",
    "- include slippage and comissions in backtets.\n",
    "- source more ETF data.\n",
    "- incorporate dynamic (ie, Kalman filter-based) cointegration coefficient into backtests.\n",
    "- one of the unit tests fails. Derived half-life is approximately as expecteed, but with a negative sign. This should be investigated.\n",
    "\n",
    "\n",
    "## Results\n",
    "PCA and OPTICS combine to generate clusters as expected. Moreover, a 2SD Bollinger band trading system based on these cointegrated pairs within these clusters generates relatively profitable and low risk strategies, when tested on out-of-sample data (2019-2020). (Cavet: ingoring slippage and comissions). This is comforting given the volatity seen in markets earlier this year.\n",
    "\n",
    "The additional trading criteria rules have little impace on overall out-of-sample backtest resuts. The only rule that makes a difference is the half-life rule AND it is only the lower-bound (half-life > 1 day) of the rule that constrains the results. (When I remove the lower bound the results were the same accross all criteria).\n",
    "\n",
    "## Next Steps\n",
    "Out-of-sample backtest results appear to be sensitive to minimum cluster size: A lower minimum cluster size leads to more but smaller clusters, and thus fewer paris within each cluster. While 2 would be the minimum cluster size for pairs trading, there seems to be benefits in terms of risk and return to have a higher minimum and thus fewer clusters. This should be optimized in-sample and validated out-of-sample.\n",
    "\n",
    "The dataset is heavily reliant on metals ETFs.  The dataset should be expanded to see if the results are robust.\n"
   ]
  },
  {
   "cell_type": "markdown",
   "metadata": {},
   "source": [
    "## Library import\n",
    "The following python libraries are used."
   ]
  },
  {
   "cell_type": "code",
   "execution_count": 1,
   "metadata": {},
   "outputs": [],
   "source": [
    "import numpy as np\n",
    "import pandas as pd\n",
    "import matplotlib.pyplot as plt\n",
    "import matplotlib.cm as cm\n",
    "\n",
    "import numpy as np\n",
    "import pandas as pd\n",
    "\n",
    "import yfinance as yf\n",
    "\n",
    "from sklearn.cluster import  OPTICS\n",
    "from sklearn.decomposition import PCA\n",
    "from sklearn import preprocessing\n",
    "\n",
    "from statsmodels.tsa.stattools import coint\n"
   ]
  },
  {
   "cell_type": "markdown",
   "metadata": {},
   "source": [
    "## Data import\n",
    "Daily closing price data is saved as pickle"
   ]
  },
  {
   "cell_type": "code",
   "execution_count": 2,
   "metadata": {},
   "outputs": [
    {
     "data": {
      "text/html": [
       "<div>\n",
       "<style scoped>\n",
       "    .dataframe tbody tr th:only-of-type {\n",
       "        vertical-align: middle;\n",
       "    }\n",
       "\n",
       "    .dataframe tbody tr th {\n",
       "        vertical-align: top;\n",
       "    }\n",
       "\n",
       "    .dataframe thead th {\n",
       "        text-align: right;\n",
       "    }\n",
       "</style>\n",
       "<table border=\"1\" class=\"dataframe\">\n",
       "  <thead>\n",
       "    <tr style=\"text-align: right;\">\n",
       "      <th></th>\n",
       "      <th>AAAU</th>\n",
       "      <th>AGQ</th>\n",
       "      <th>AMJ</th>\n",
       "      <th>AMJL</th>\n",
       "      <th>AMLP</th>\n",
       "      <th>AMU</th>\n",
       "      <th>AMUB</th>\n",
       "      <th>AMZA</th>\n",
       "      <th>AOIL</th>\n",
       "      <th>ATMP</th>\n",
       "      <th>...</th>\n",
       "      <th>XES</th>\n",
       "      <th>XLE</th>\n",
       "      <th>XLEY</th>\n",
       "      <th>XME</th>\n",
       "      <th>XOP</th>\n",
       "      <th>YGRN</th>\n",
       "      <th>YMLI</th>\n",
       "      <th>YMLP</th>\n",
       "      <th>ZMLP</th>\n",
       "      <th>ZSL</th>\n",
       "    </tr>\n",
       "    <tr>\n",
       "      <th>Date</th>\n",
       "      <th></th>\n",
       "      <th></th>\n",
       "      <th></th>\n",
       "      <th></th>\n",
       "      <th></th>\n",
       "      <th></th>\n",
       "      <th></th>\n",
       "      <th></th>\n",
       "      <th></th>\n",
       "      <th></th>\n",
       "      <th></th>\n",
       "      <th></th>\n",
       "      <th></th>\n",
       "      <th></th>\n",
       "      <th></th>\n",
       "      <th></th>\n",
       "      <th></th>\n",
       "      <th></th>\n",
       "      <th></th>\n",
       "      <th></th>\n",
       "      <th></th>\n",
       "    </tr>\n",
       "  </thead>\n",
       "  <tbody>\n",
       "    <tr>\n",
       "      <th>2014-12-31</th>\n",
       "      <td>NaN</td>\n",
       "      <td>38.049999</td>\n",
       "      <td>29.988312</td>\n",
       "      <td>NaN</td>\n",
       "      <td>54.848827</td>\n",
       "      <td>18.874243</td>\n",
       "      <td>NaN</td>\n",
       "      <td>77.811935</td>\n",
       "      <td>NaN</td>\n",
       "      <td>23.804226</td>\n",
       "      <td>...</td>\n",
       "      <td>258.601349</td>\n",
       "      <td>62.665779</td>\n",
       "      <td>NaN</td>\n",
       "      <td>27.874350</td>\n",
       "      <td>176.589050</td>\n",
       "      <td>NaN</td>\n",
       "      <td>14.824399</td>\n",
       "      <td>37.831425</td>\n",
       "      <td>138.705643</td>\n",
       "      <td>59.695000</td>\n",
       "    </tr>\n",
       "    <tr>\n",
       "      <th>2015-01-02</th>\n",
       "      <td>NaN</td>\n",
       "      <td>38.419998</td>\n",
       "      <td>30.621363</td>\n",
       "      <td>NaN</td>\n",
       "      <td>55.287121</td>\n",
       "      <td>19.264742</td>\n",
       "      <td>NaN</td>\n",
       "      <td>79.503807</td>\n",
       "      <td>NaN</td>\n",
       "      <td>24.115490</td>\n",
       "      <td>...</td>\n",
       "      <td>260.709747</td>\n",
       "      <td>62.958664</td>\n",
       "      <td>NaN</td>\n",
       "      <td>27.883385</td>\n",
       "      <td>178.396988</td>\n",
       "      <td>NaN</td>\n",
       "      <td>15.021680</td>\n",
       "      <td>39.253883</td>\n",
       "      <td>143.144928</td>\n",
       "      <td>58.895000</td>\n",
       "    </tr>\n",
       "    <tr>\n",
       "      <th>2015-01-05</th>\n",
       "      <td>NaN</td>\n",
       "      <td>40.459999</td>\n",
       "      <td>29.231256</td>\n",
       "      <td>NaN</td>\n",
       "      <td>53.784428</td>\n",
       "      <td>18.392624</td>\n",
       "      <td>NaN</td>\n",
       "      <td>75.130043</td>\n",
       "      <td>NaN</td>\n",
       "      <td>23.134996</td>\n",
       "      <td>...</td>\n",
       "      <td>248.059326</td>\n",
       "      <td>60.354195</td>\n",
       "      <td>NaN</td>\n",
       "      <td>26.853674</td>\n",
       "      <td>166.958923</td>\n",
       "      <td>NaN</td>\n",
       "      <td>14.634160</td>\n",
       "      <td>37.982750</td>\n",
       "      <td>138.663788</td>\n",
       "      <td>56.080002</td>\n",
       "    </tr>\n",
       "    <tr>\n",
       "      <th>2015-01-06</th>\n",
       "      <td>NaN</td>\n",
       "      <td>42.099998</td>\n",
       "      <td>28.643894</td>\n",
       "      <td>NaN</td>\n",
       "      <td>53.064365</td>\n",
       "      <td>18.073715</td>\n",
       "      <td>NaN</td>\n",
       "      <td>73.017593</td>\n",
       "      <td>NaN</td>\n",
       "      <td>22.761478</td>\n",
       "      <td>...</td>\n",
       "      <td>240.267334</td>\n",
       "      <td>59.467564</td>\n",
       "      <td>NaN</td>\n",
       "      <td>26.483341</td>\n",
       "      <td>161.904099</td>\n",
       "      <td>NaN</td>\n",
       "      <td>14.436877</td>\n",
       "      <td>37.680107</td>\n",
       "      <td>136.360382</td>\n",
       "      <td>53.814999</td>\n",
       "    </tr>\n",
       "    <tr>\n",
       "      <th>2015-01-07</th>\n",
       "      <td>NaN</td>\n",
       "      <td>42.130001</td>\n",
       "      <td>28.670002</td>\n",
       "      <td>NaN</td>\n",
       "      <td>52.876526</td>\n",
       "      <td>18.034664</td>\n",
       "      <td>NaN</td>\n",
       "      <td>72.205879</td>\n",
       "      <td>NaN</td>\n",
       "      <td>22.566931</td>\n",
       "      <td>...</td>\n",
       "      <td>237.883926</td>\n",
       "      <td>59.594223</td>\n",
       "      <td>NaN</td>\n",
       "      <td>26.600765</td>\n",
       "      <td>160.280579</td>\n",
       "      <td>NaN</td>\n",
       "      <td>14.359372</td>\n",
       "      <td>37.316921</td>\n",
       "      <td>135.564682</td>\n",
       "      <td>53.779999</td>\n",
       "    </tr>\n",
       "  </tbody>\n",
       "</table>\n",
       "<p>5 rows × 213 columns</p>\n",
       "</div>"
      ],
      "text/plain": [
       "            AAAU        AGQ        AMJ  AMJL       AMLP        AMU  AMUB  \\\n",
       "Date                                                                       \n",
       "2014-12-31   NaN  38.049999  29.988312   NaN  54.848827  18.874243   NaN   \n",
       "2015-01-02   NaN  38.419998  30.621363   NaN  55.287121  19.264742   NaN   \n",
       "2015-01-05   NaN  40.459999  29.231256   NaN  53.784428  18.392624   NaN   \n",
       "2015-01-06   NaN  42.099998  28.643894   NaN  53.064365  18.073715   NaN   \n",
       "2015-01-07   NaN  42.130001  28.670002   NaN  52.876526  18.034664   NaN   \n",
       "\n",
       "                 AMZA  AOIL       ATMP  ...         XES        XLE  XLEY  \\\n",
       "Date                                    ...                                \n",
       "2014-12-31  77.811935   NaN  23.804226  ...  258.601349  62.665779   NaN   \n",
       "2015-01-02  79.503807   NaN  24.115490  ...  260.709747  62.958664   NaN   \n",
       "2015-01-05  75.130043   NaN  23.134996  ...  248.059326  60.354195   NaN   \n",
       "2015-01-06  73.017593   NaN  22.761478  ...  240.267334  59.467564   NaN   \n",
       "2015-01-07  72.205879   NaN  22.566931  ...  237.883926  59.594223   NaN   \n",
       "\n",
       "                  XME         XOP  YGRN       YMLI       YMLP        ZMLP  \\\n",
       "Date                                                                        \n",
       "2014-12-31  27.874350  176.589050   NaN  14.824399  37.831425  138.705643   \n",
       "2015-01-02  27.883385  178.396988   NaN  15.021680  39.253883  143.144928   \n",
       "2015-01-05  26.853674  166.958923   NaN  14.634160  37.982750  138.663788   \n",
       "2015-01-06  26.483341  161.904099   NaN  14.436877  37.680107  136.360382   \n",
       "2015-01-07  26.600765  160.280579   NaN  14.359372  37.316921  135.564682   \n",
       "\n",
       "                  ZSL  \n",
       "Date                   \n",
       "2014-12-31  59.695000  \n",
       "2015-01-02  58.895000  \n",
       "2015-01-05  56.080002  \n",
       "2015-01-06  53.814999  \n",
       "2015-01-07  53.779999  \n",
       "\n",
       "[5 rows x 213 columns]"
      ]
     },
     "execution_count": 2,
     "metadata": {},
     "output_type": "execute_result"
    }
   ],
   "source": [
    "tickers = ['DBA', 'JO', 'CORN', 'WEAT', 'SGG', 'SOYB', 'NIB', 'JJG', 'CANE', 'COW', 'BAL', 'JJA', 'JJS', 'FUD', 'UAG', 'TAGS', 'FUE', 'GRU', 'RJA', 'JJU', 'GLD', 'IAU', 'SLV', 'PDBC', 'DBC', 'USO', 'GSG', 'SGOL', 'DJP', 'GLDM', 'PPLT', 'UGAZ', 'BAR', 'USCI', 'UWT', 'UCO', 'GLTR', 'SIVR', 'DBO', 'UNG', 'DGAZ', 'PALL', 'USLV', 'AGQ', 'FTGC', 'DBB', 'BCI', 'DWT', 'OUNZ', 'OILU', 'GCC', 'UGLD', 'DBP', 'AAAU', 'OIL', 'BNO', 'DGL', 'SCO', 'DBE', 'DGP', 'UGL', 'UCI', 'USL', 'COMB', 'BCM', 'OILK', 'UGA', 'COM', 'CMDY', 'GSP', 'GLDI', 'DJCI', 'DSLV', 'GLDW', 'BOIL', 'USOU', 'ZSL', 'GLL', 'SLVO', 'OILD', 'WTIU', 'DGLD', 'DZZ', 'OILX', 'JJC', 'CPER', 'DBS', 'DTO', 'KOLD', 'DGZ', 'USOI', 'JJN', 'COMG', 'UBG', 'UCIB', 'IAUF', 'JJM', 'JJP', 'JJT', 'JJE', 'UNL', 'AOIL', 'PLTM', 'PGM', 'SDCI', 'USV', 'BCD', 'GAZ', 'OLEM', 'WTID', 'USOD', 'LD', 'RJI', 'RJN', 'RJZ', 'GSC', 'XLE', 'AMLP', 'VDE', 'AMJ', 'EMLP', 'XOP', 'MLPI', 'IXC', 'MLPA', 'MLPX', 'OIH', 'IYE', 'FENY', 'AMZA', 'ATMP', 'ERX', 'TPYP', 'IEO', 'AMU', 'GUSH', 'XES', 'RYE', 'FXN', 'IEZ', 'FCG', 'DIG', 'MLPC', 'MLPQ', 'ENFR', 'NRGU', 'DRIP', 'NRGO', 'KOL', 'PXI', 'ZMLP', 'FILL', 'YGRN', 'NRGZ', 'YMLP', 'NRGD', 'PXE', 'IMLP', 'GASL', 'MLPO', 'PSCE', 'MLPZ', 'ERY', 'FRAK', 'JHME', 'PYPE', 'MLPE', 'CRAK', 'YMLI', 'PXJ', 'DUG', 'AMJL', 'FTXN', 'USAI', 'MLPG', 'MLPB', 'AMUB', 'PPLN', 'GASX', 'XLEY', 'BMLP', 'CHIE', 'DDG', 'MLPY', 'GDX', 'GDXJ', 'NUGT', 'JNUG', 'RING', 'SGDM', 'DUST', 'SGDJ', 'JDST', 'GOEX', 'GOAU', 'GDXX', 'GDXS', 'LIT', 'XME', 'PICK', 'REMX', 'COPX', 'BATT', 'URA', 'NLR', 'SIL', 'SLVP', 'SILJ', 'PHO', 'CGW', 'FIW', 'PIO', 'TBLU']\n",
    "#print(len(tickers))\n",
    "#prices = yf.download(tickers, start=\"2015-01-01\", end=\"2020-09-30\")\n",
    "#prices = prices['Adj Close']\n",
    "#prices.to_pickle('./etfs/prices.pkl')\n",
    "#prices.to_csv('./etfs/prices.csv')\n",
    "\n",
    "\n",
    "df = pd.read_pickle('./etfs/prices.pkl')\n",
    "df.head()"
   ]
  },
  {
   "cell_type": "markdown",
   "metadata": {},
   "source": [
    "## Data pre-processing\n",
    " - Remove NAs\n",
    " - Convert Prices into returns\n",
    " - Price are split into formation period and test period for analysing effects each trading criteria (in addition to choosing co-integrating pairs only)."
   ]
  },
  {
   "cell_type": "code",
   "execution_count": 3,
   "metadata": {},
   "outputs": [
    {
     "name": "stdout",
     "output_type": "stream",
     "text": [
      "213 tickers before removing NAs\n",
      "128 tickers after removing NAs\n",
      "\n",
      " ['AGQ', 'AMJ', 'AMLP', 'AMU', 'AMZA', 'BCM', 'BNO', 'BOIL', 'CANE', 'CGW', 'CHIE', 'COPX', 'CORN', 'CPER', 'DBA', 'DBB', 'DBC', 'DBE', 'DBO', 'DBP', 'DBS', 'DDG', 'DGL', 'DGP', 'DGZ', 'DIG', 'DJCI', 'DJP', 'DUG', 'DUST', 'DZZ', 'EMLP', 'ENFR', 'ERX', 'ERY', 'FCG', 'FENY', 'FILL', 'FIW', 'FRAK', 'FTGC', 'FUD', 'FUE', 'FXN', 'GCC', 'GDX', 'GDXJ', 'GLD', 'GLDI', 'GLL', 'GLTR', 'GOEX', 'GRU', 'GSG', 'GSP', 'IAU', 'IEO', 'IEZ', 'IXC', 'IYE', 'JDST', 'JNUG', 'KOL', 'KOLD', 'LD', 'LIT', 'MLPA', 'MLPC', 'MLPG', 'MLPI', 'MLPO', 'MLPX', 'MLPY', 'NIB', 'NLR', 'NUGT', 'OIH', 'OIL', 'OUNZ', 'PALL', 'PDBC', 'PHO', 'PICK', 'PIO', 'PPLT', 'PSCE', 'PXE', 'PXI', 'PXJ', 'REMX', 'RING', 'RJA', 'RJI', 'RJN', 'RJZ', 'RYE', 'SCO', 'SGDM', 'SGOL', 'SIL', 'SILJ', 'SIVR', 'SLV', 'SLVO', 'SLVP', 'SOYB', 'TAGS', 'UAG', 'UBG', 'UCI', 'UCO', 'UGA', 'UGL', 'UNG', 'UNL', 'URA', 'USCI', 'USL', 'USO', 'USV', 'VDE', 'WEAT', 'XES', 'XLE', 'XME', 'XOP', 'ZMLP', 'ZSL']\n"
     ]
    }
   ],
   "source": [
    "print(len(list(df)), 'tickers before removing NAs')\n",
    "df=df.dropna(axis='columns')\n",
    "print(len(list(df)), 'tickers after removing NAs')\n",
    "tickers = list(df)\n",
    "print('\\n', tickers)\n",
    "\n",
    "LB=30 #used in Bollinger band in backtesting\n",
    "\n",
    "prices = df.iloc[:1012,:] #2015-2018\n",
    "prices_test = df.iloc[1012-LB:,:] #2019-2020, used for backtesting out-of-sample \n"
   ]
  },
  {
   "cell_type": "code",
   "execution_count": 4,
   "metadata": {},
   "outputs": [],
   "source": [
    "returns = prices.pct_change()\n",
    "returns=returns.iloc[1:, :]"
   ]
  },
  {
   "cell_type": "markdown",
   "metadata": {},
   "source": [
    "# Part A. Dimension Reduction: Principal Component Analysis\n",
    " - Follows tutorial: https://towardsdatascience.com/explaining-dbscan-clustering-18eaf5c83b31\n",
    " - First 15 components explain almost 93% of variance\n",
    " - Number of components set to 15, as recommended in Sarmento paper"
   ]
  },
  {
   "cell_type": "code",
   "execution_count": 5,
   "metadata": {},
   "outputs": [
    {
     "name": "stdout",
     "output_type": "stream",
     "text": [
      "Cumulative % of variance explained\n",
      "\n",
      "1 41.46137361946439\n",
      "2 63.06762041994178\n",
      "3 71.56686097190908\n",
      "4 78.70150550005886\n",
      "5 81.96451104469296\n",
      "6 83.98084645138145\n",
      "7 85.69505037195228\n",
      "8 87.20196830012655\n",
      "9 88.54883711581057\n",
      "10 89.64532197502831\n",
      "11 90.42722732039162\n",
      "12 91.14884753955047\n",
      "13 91.73226168103751\n",
      "14 92.27530236304098\n",
      "15 92.79348765541647\n"
     ]
    }
   ],
   "source": [
    "NUM_COMPONENTS = 15 # as suggested in paper\n",
    "pca = PCA(n_components=NUM_COMPONENTS)\n",
    "pca.fit(returns)\n",
    "\n",
    "print('Cumulative % of variance explained\\n')\n",
    "for i in range(15):\n",
    "    print(str(i+1), np.cumsum(pca.explained_variance_ratio_*100)[i])"
   ]
  },
  {
   "cell_type": "code",
   "execution_count": 6,
   "metadata": {},
   "outputs": [
    {
     "data": {
      "text/plain": [
       "[<matplotlib.lines.Line2D at 0x7fc1ac21b1d0>]"
      ]
     },
     "execution_count": 6,
     "metadata": {},
     "output_type": "execute_result"
    },
    {
     "data": {
      "image/png": "[encoded data removed]",
      "text/plain": [
       "<Figure size 864x432 with 1 Axes>"
      ]
     },
     "metadata": {
      "needs_background": "light"
     },
     "output_type": "display_data"
    }
   ],
   "source": [
    "var=np.cumsum(pca.explained_variance_ratio_ *100)\n",
    "plt.figure(figsize=(12,6))\n",
    "plt.ylabel('% Variance Explained')\n",
    "plt.xlabel('nth component')\n",
    "plt.title('PCA Analysis')\n",
    "plt.ylim(0,100.5)\n",
    "plt.plot(var)"
   ]
  },
  {
   "cell_type": "markdown",
   "metadata": {},
   "source": [
    "Now pre-process for using in clustering algorithm"
   ]
  },
  {
   "cell_type": "code",
   "execution_count": 7,
   "metadata": {},
   "outputs": [],
   "source": [
    "comps =pca.components_\n",
    "X = preprocessing.StandardScaler().fit_transform(comps.T)"
   ]
  },
  {
   "cell_type": "markdown",
   "metadata": {},
   "source": [
    "# Part B. Unsupervised Learning:  Clustering with OPTICS\n",
    " - Input dimension-reduced data from above\n",
    " - Orgainize and analyze clusters"
   ]
  },
  {
   "cell_type": "markdown",
   "metadata": {},
   "source": [
    "For pairs trading we must have min_samples >= 2. A lower min_samples value creates more clusters, with (typically) fewer members, which could limit the number of co-integrating pairs per cluster. \n",
    "\n",
    "After experimenting I went with min_samples = 3. "
   ]
  },
  {
   "cell_type": "code",
   "execution_count": 8,
   "metadata": {},
   "outputs": [
    {
     "name": "stdout",
     "output_type": "stream",
     "text": [
      "Total number of clusters: 14 \n",
      "\n",
      "Tickers by cluster\n",
      "\n",
      "1 ['DBS', 'SIVR', 'SLV', 'SLVO']\n",
      "2 ['DBP', 'DGL', 'GLD', 'GLDI', 'GLTR', 'IAU', 'OUNZ', 'PPLT', 'SGOL', 'UBG']\n",
      "3 ['DJCI', 'DJP', 'FTGC']\n",
      "4 ['BCM', 'DBC', 'PDBC', 'RJI']\n",
      "5 ['BNO', 'DBE', 'DBO', 'RJN', 'UGA', 'USL', 'USO']\n",
      "6 ['CANE', 'DBA', 'FUD', 'RJA', 'SOYB']\n",
      "7 ['CGW', 'FILL', 'FIW', 'NLR', 'PHO', 'PIO']\n",
      "8 ['FENY', 'IYE', 'VDE', 'XLE']\n",
      "9 ['PXE', 'PXI', 'RYE']\n",
      "10 ['AMJ', 'AMLP', 'AMU', 'MLPA', 'MLPC', 'MLPG', 'MLPI', 'MLPY', 'ZMLP']\n",
      "11 ['DGZ', 'DZZ', 'GLL']\n",
      "12 ['IEZ', 'OIH', 'PSCE', 'PXJ', 'XES']\n",
      "13 ['SIL', 'SILJ', 'SLVP']\n",
      "14 ['GDX', 'RING', 'SGDM']\n"
     ]
    },
    {
     "name": "stderr",
     "output_type": "stream",
     "text": [
      "/home/christopher/anaconda3/envs/pairs/lib/python3.7/site-packages/sklearn/utils/validation.py:70: FutureWarning: Pass min_samples=3 as keyword args. From version 0.25 passing these as positional arguments will result in an error\n",
      "  FutureWarning)\n"
     ]
    }
   ],
   "source": [
    "# get_clusters uses OPTICS to generate clusters\n",
    "from helper_functions import get_clusters\n",
    "clusters = get_clusters(data = X, tickers = list(returns), min_samples = 3)\n",
    "num_clusters = len(clusters)\n",
    "print('Total number of clusters:', num_clusters, '\\n')\n",
    "\n",
    "print('Tickers by cluster\\n')\n",
    "for i in range(num_clusters):\n",
    "    print(i+1, clusters[i])"
   ]
  },
  {
   "cell_type": "markdown",
   "metadata": {},
   "source": [
    "# Part C: Pairs selection criteria\n",
    "The Sarmento paper requires that all pairs are:\n",
    "  - cointegrated\n",
    "  - mean-reverting.  Specifically that the Hurst exponent is < 0.5\n",
    "  - have a coherent mean-reversion time and trading period.  Specifically that the spread has a half-life of less than one year (and greater than 1 day).\n",
    "  - spread cross the mean at least 12 times per year."
   ]
  },
  {
   "cell_type": "code",
   "execution_count": 9,
   "metadata": {},
   "outputs": [
    {
     "name": "stdout",
     "output_type": "stream",
     "text": [
      "cluster 2 has 11 cointigrated pairs\n",
      "[('DBP', 'GLDI'), ('DGL', 'UBG'), ('GLD', 'OUNZ'), ('GLD', 'SGOL'), ('GLD', 'UBG'), ('GLDI', 'UBG'), ('GLTR', 'UBG'), ('IAU', 'UBG'), ('OUNZ', 'SGOL'), ('OUNZ', 'UBG'), ('SGOL', 'UBG')] \n",
      "\n",
      "cluster 5 has 2 cointigrated pairs\n",
      "[('DBO', 'UGA'), ('UGA', 'USO')] \n",
      "\n",
      "cluster 6 has 1 cointigrated pairs\n",
      "[('FUD', 'SOYB')] \n",
      "\n",
      "cluster 7 has 2 cointigrated pairs\n",
      "[('FIW', 'NLR'), ('NLR', 'PHO')] \n",
      "\n",
      "cluster 10 has 6 cointigrated pairs\n",
      "[('AMJ', 'AMU'), ('AMJ', 'MLPY'), ('AMLP', 'MLPY'), ('AMU', 'MLPY'), ('MLPC', 'MLPY'), ('MLPI', 'MLPY')] \n",
      "\n",
      "Total number of conitegrated pairs 22\n"
     ]
    }
   ],
   "source": [
    "# Cointegration\n",
    "\n",
    "# get_coint_pairs simply does a pairwise calculation of all potential pairs in each cluster and 'keeps' the cointegrated pairs\n",
    "# and disregards those pairs that are not cointegrated.\n",
    "# 5% significance value is used.\n",
    "\n",
    "from helper_functions import get_coint_pairs\n",
    "pairs = get_coint_pairs(clusters=clusters, pval_thresh=0.05, prices=prices)\n",
    "\n",
    "c=0\n",
    "coint_pairs = []\n",
    "for i in range(num_clusters):\n",
    "    l=len(pairs[i])\n",
    "    if l > 0:\n",
    "        print('cluster', i+1, 'has', l, 'cointigrated pairs')\n",
    "        print(pairs[i],'\\n')\n",
    "        coint_pairs.append(pairs[i])\n",
    "    c+=l\n",
    "coint_pairs=coint_pairs[0]\n",
    "print('Total number of conitegrated pairs', c)"
   ]
  },
  {
   "cell_type": "markdown",
   "metadata": {},
   "source": [
    "Now derive the spread for the co-integrated pairs."
   ]
  },
  {
   "cell_type": "code",
   "execution_count": 10,
   "metadata": {},
   "outputs": [],
   "source": [
    "# derive coefficient and spread\n",
    "from helper_functions import get_spread\n",
    "\n",
    "spreads=[]\n",
    "coeffs=[]\n",
    "for pair in coint_pairs:\n",
    "    coeff, spread = get_spread(pair, prices)\n",
    "    spreads.append(spread)\n",
    "    coeffs.append(coeff)"
   ]
  },
  {
   "cell_type": "code",
   "execution_count": 11,
   "metadata": {},
   "outputs": [
    {
     "name": "stdout",
     "output_type": "stream",
     "text": [
      "Spread of DBP and GLDI\n"
     ]
    },
    {
     "data": {
      "text/plain": [
       "[<matplotlib.lines.Line2D at 0x7fc1ad764310>]"
      ]
     },
     "execution_count": 11,
     "metadata": {},
     "output_type": "execute_result"
    },
    {
     "data": {
      "image/png": "[encoded data removed]",
      "text/plain": [
       "<Figure size 864x432 with 1 Axes>"
      ]
     },
     "metadata": {
      "needs_background": "light"
     },
     "output_type": "display_data"
    }
   ],
   "source": [
    "#Example of spread time series\n",
    "spread=spreads[0]\n",
    "p1, p2 =coint_pairs[0]\n",
    "plt.figure(figsize=(12,6))\n",
    "#plt.xlabel('time')\n",
    "title_string ='Spread of ' +  p1 +' and '+ p2 \n",
    "print(title_string)\n",
    "plt.title(title_string)\n",
    "plt.plot(spread)"
   ]
  },
  {
   "cell_type": "markdown",
   "metadata": {},
   "source": [
    "This series is stationary and appears to be mean reverting.\n",
    "\n",
    "Now test the spreads for their various properties: mean reversion (Hurst < 0.5), half-life <1 year, mean crossings > 12 per year"
   ]
  },
  {
   "cell_type": "code",
   "execution_count": 12,
   "metadata": {},
   "outputs": [
    {
     "name": "stdout",
     "output_type": "stream",
     "text": [
      "Number of cointegrating pairs 11\n",
      "[('DBP', 'GLDI'), ('DGL', 'UBG'), ('GLD', 'OUNZ'), ('GLD', 'SGOL'), ('GLD', 'UBG'), ('GLDI', 'UBG'), ('GLTR', 'UBG'), ('IAU', 'UBG'), ('OUNZ', 'SGOL'), ('OUNZ', 'UBG'), ('SGOL', 'UBG')]\n",
      "\n",
      "Number of cointiegrating AND mean reverting pairs 11\n",
      "[('DBP', 'GLDI'), ('DGL', 'UBG'), ('GLD', 'OUNZ'), ('GLD', 'SGOL'), ('GLD', 'UBG'), ('GLDI', 'UBG'), ('GLTR', 'UBG'), ('IAU', 'UBG'), ('OUNZ', 'SGOL'), ('OUNZ', 'UBG'), ('SGOL', 'UBG')]\n",
      "\n",
      "Number of cointiegrating AND mean crossing pairs 11\n",
      "[('DBP', 'GLDI'), ('DGL', 'UBG'), ('GLD', 'OUNZ'), ('GLD', 'SGOL'), ('GLD', 'UBG'), ('GLDI', 'UBG'), ('GLTR', 'UBG'), ('IAU', 'UBG'), ('OUNZ', 'SGOL'), ('OUNZ', 'UBG'), ('SGOL', 'UBG')]\n",
      "\n",
      "Number of cointiegrating AND \"half-life\" pairs 8\n",
      "[('DBP', 'GLDI'), ('DGL', 'UBG'), ('GLD', 'UBG'), ('GLDI', 'UBG'), ('GLTR', 'UBG'), ('IAU', 'UBG'), ('OUNZ', 'UBG'), ('SGOL', 'UBG')]\n"
     ]
    }
   ],
   "source": [
    "#spreads is list of spreads that are cointegrated\n",
    "# the next few function calls reduce that list even more and capture only those that are mean reverting, half-life <1 year, cross at least 12 times per year\n",
    "from helper_functions import get_mean_reverting, get_mean_crossing, get_half_life, half_life\n",
    "\n",
    "print('Number of cointegrating pairs', len(coint_pairs))\n",
    "print(coint_pairs)\n",
    "\n",
    "mean_rev = get_mean_reverting(spreads, coint_pairs)\n",
    "print('\\nNumber of cointiegrating AND mean reverting pairs', len(mean_rev))\n",
    "print(mean_rev)\n",
    "\n",
    "mean_cross = get_mean_crossing(spreads, coint_pairs)\n",
    "print('\\nNumber of cointiegrating AND mean crossing pairs', len(mean_cross))\n",
    "print(mean_cross)\n",
    "\n",
    "half_life_list = get_half_life(spreads, coint_pairs)\n",
    "print('\\nNumber of cointiegrating AND \"half-life\" pairs', len(half_life_list))\n",
    "print(half_life_list)"
   ]
  },
  {
   "cell_type": "code",
   "execution_count": 13,
   "metadata": {},
   "outputs": [
    {
     "name": "stdout",
     "output_type": "stream",
     "text": [
      "Number of pairs that satisfy all criteria: 8\n",
      "[('GLD', 'UBG'), ('GLDI', 'UBG'), ('SGOL', 'UBG'), ('GLTR', 'UBG'), ('IAU', 'UBG'), ('DBP', 'GLDI'), ('OUNZ', 'UBG'), ('DGL', 'UBG')]\n"
     ]
    }
   ],
   "source": [
    "# mean reversion (hurst criteria) does not reject any pairs and can be ignored - for this example only.\n",
    "# final set of pairs mean-crossing pairs with half-life less than 1 year (250 days) and greater than 1 day\n",
    "set1 = set(mean_cross)\n",
    "final_list = list(set1.intersection(half_life_list))\n",
    "print('Number of pairs that satisfy all criteria:', len(final_list))\n",
    "print(final_list)"
   ]
  },
  {
   "cell_type": "markdown",
   "metadata": {},
   "source": [
    "# Extension: Backtesting out-of-sample\n",
    "\n",
    "In this section section I implement a simple 2SD Bollinger band trading rule over validation period (2019-2020) on co-integrated pairs indenfied in formation period (2015-2018). Cointegration coefficient is estimated over formation period also.\n",
    "\n",
    "I then analyze the impace of each 'additional' pair trading criterion and finally all citeria in combination."
   ]
  },
  {
   "cell_type": "code",
   "execution_count": 14,
   "metadata": {},
   "outputs": [],
   "source": [
    "from helper_functions import back_test_all\n",
    "results_all = back_test_all(coint_pairs, coeffs, prices_test) #note prices_test is out-o-sample prices NOT used in cluster and coefficient estimation\n",
    "#results_all.tail()"
   ]
  },
  {
   "cell_type": "code",
   "execution_count": 15,
   "metadata": {},
   "outputs": [],
   "source": [
    "#get results for each criteria: mean cross, half-life and both of these\n",
    "diff=list(set(list(results_all)).difference(set(mean_cross)))\n",
    "results_mean_crossing = results_all.drop(columns = diff)\n",
    "\n",
    "diff=list(set(list(results_all)).difference(set(half_life_list)))\n",
    "results_half_life = results_all.drop(columns = diff)\n",
    "\n",
    "diff=list(set(list(results_all)).difference(set(final_list)))\n",
    "results_final = results_all.drop(columns = diff)"
   ]
  },
  {
   "cell_type": "code",
   "execution_count": 16,
   "metadata": {},
   "outputs": [
    {
     "data": {
      "text/plain": [
       "<AxesSubplot:xlabel='Date'>"
      ]
     },
     "execution_count": 16,
     "metadata": {},
     "output_type": "execute_result"
    },
    {
     "data": {
      "image/png": "[encoded data removed]",
      "text/plain": [
       "<Figure size 1440x720 with 1 Axes>"
      ]
     },
     "metadata": {
      "needs_background": "light"
     },
     "output_type": "display_data"
    }
   ],
   "source": [
    "summary=pd.DataFrame()\n",
    "summary['coint only'] = results_all.mean(axis=1)\n",
    "summary['mean crossing'] = results_mean_crossing.mean(axis=1)\n",
    "summary['half-life']= results_half_life.mean(axis=1)\n",
    "summary['all criteria'] = results_final.mean(axis=1)\n",
    "summary.to_csv('./backtests/summary.csv')\n",
    "\n",
    "summary.plot(figsize=(20,10))\n",
    "#summary.plot.line()\n"
   ]
  }
 ],
 "metadata": {
  "kernelspec": {
   "display_name": "Python 3",
   "language": "python",
   "name": "python3"
  },
  "language_info": {
   "codemirror_mode": {
    "name": "ipython",
    "version": 3
   },
   "file_extension": ".py",
   "mimetype": "text/x-python",
   "name": "python",
   "nbconvert_exporter": "python",
   "pygments_lexer": "ipython3",
   "version": "3.7.9"
  }
 },
 "nbformat": 4,
 "nbformat_minor": 4
}
